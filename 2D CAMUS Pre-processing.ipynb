{
 "cells": [
  {
   "cell_type": "markdown",
   "id": "7806cf62",
   "metadata": {},
   "source": [
    "# Pre-processing"
   ]
  },
  {
   "cell_type": "code",
   "execution_count": 100,
   "id": "1f605f9d",
   "metadata": {},
   "outputs": [],
   "source": [
    "import os\n",
    "import shutil\n",
    "import sys\n",
    "import SimpleITK as sitk"
   ]
  },
  {
   "cell_type": "markdown",
   "id": "321760d8",
   "metadata": {},
   "source": [
    "# labelsTr"
   ]
  },
  {
   "cell_type": "markdown",
   "id": "0e8f0385",
   "metadata": {},
   "source": [
    "## NifTi conversion and folder sorter"
   ]
  },
  {
   "cell_type": "code",
   "execution_count": 154,
   "id": "82562043",
   "metadata": {},
   "outputs": [],
   "source": [
    "os.chdir('D:/TFG/nnUNet_raw/database/training/patient0011')\n",
    "path = 'D:/TFG/nnUnet_raw/database/training/patient0011/'\n",
    "path_to = 'D:/TFG/nnUnet_raw/Task250_2DLeftVentricle/labelsTr'\n",
    "\n",
    "names = os.listdir(path)\n",
    "for files in names:\n",
    "    if '_gt.mhd' in files:        \n",
    "        sitk.WriteImage(sitk.ReadImage(files), files + '.nii') # NIfTi conversion\n",
    "        if '_gt.mhd.nii' in files:\n",
    "            shutil.move(path+files, path_to +'/'+files) # Folder sorter"
   ]
  },
  {
   "cell_type": "markdown",
   "id": "4e537533",
   "metadata": {},
   "source": [
    "## Check shape"
   ]
  },
  {
   "cell_type": "code",
   "execution_count": 152,
   "id": "a7c361a4",
   "metadata": {},
   "outputs": [
    {
     "name": "stdout",
     "output_type": "stream",
     "text": [
      "(1, 1103, 669)\n"
     ]
    }
   ],
   "source": [
    "os.chdir('D:/TFG/nnUnet_raw/Task250_2DLeftVentricle/labelsTr')\n",
    "print(sitk.GetArrayFromImage(sitk.ReadImage('patient0010_2CH_ED_gt.mhd.nii')).shape)"
   ]
  },
  {
   "cell_type": "markdown",
   "id": "8431bfe5",
   "metadata": {},
   "source": [
    "## Zip files"
   ]
  },
  {
   "cell_type": "code",
   "execution_count": null,
   "id": "10dad5ba",
   "metadata": {},
   "outputs": [],
   "source": []
  },
  {
   "cell_type": "markdown",
   "id": "26e86541",
   "metadata": {},
   "source": [
    "## Rename files"
   ]
  },
  {
   "cell_type": "code",
   "execution_count": null,
   "id": "dce32c13",
   "metadata": {},
   "outputs": [],
   "source": [
    "for f in os.listdir():\n",
    "    f_name, f_ext = os.path.splitext(f)\n",
    "    f_patient, f_CH, f_E, f_gt = f_name.split('_')\n",
    "    \n",
    "    #f_patient = f_patient.strip()\n",
    "    #f_CH = f_CH.strip()\n",
    "    \n",
    "    new_name = '{}_{}_{}.nii.gz'.format(f_patient, f_CH, f_E)\n",
    "    print(new_name)\n",
    "    \n",
    "    #os.rename(f, new_name)"
   ]
  },
  {
   "cell_type": "markdown",
   "id": "6b0c46a4",
   "metadata": {},
   "source": [
    "# imagesTr"
   ]
  },
  {
   "cell_type": "markdown",
   "id": "bc8c5faa",
   "metadata": {},
   "source": [
    "## labelsTr"
   ]
  },
  {
   "cell_type": "code",
   "execution_count": 35,
   "id": "15007d02",
   "metadata": {},
   "outputs": [],
   "source": [
    "path = 'D:/TFG/nnUnet_raw/database/training/patient0020/'\n",
    "path_to = 'D:/TFG/nnUnet_raw/Task250_2DLeftVentricle/labelsTr'\n",
    "names = os.listdir(path)\n",
    "for files in names:\n",
    "    if '_gt.mhd' in files:\n",
    "        shutil.move(path+files, path_to +'/'+files)"
   ]
  },
  {
   "cell_type": "markdown",
   "id": "f56de407",
   "metadata": {},
   "source": [
    "## imagesTr"
   ]
  },
  {
   "cell_type": "code",
   "execution_count": 60,
   "id": "1e994579",
   "metadata": {},
   "outputs": [],
   "source": [
    "path = 'D:/TFG/nnUnet_raw/database/training/patient0020/'\n",
    "path_to = 'D:/TFG/nnUnet_raw/Task250_2DLeftVentricle/imagesTr'\n",
    "names = os.listdir(path)\n",
    "for files in names:\n",
    "    if 'ED.mhd' in files:\n",
    "        shutil.move(path+files, path_to +'/'+files)\n",
    "    if 'ES.mhd' in files:\n",
    "        shutil.move(path+files, path_to +'/'+files)"
   ]
  },
  {
   "cell_type": "markdown",
   "id": "fec05bfa",
   "metadata": {},
   "source": []
  },
  {
   "cell_type": "markdown",
   "id": "0be003fc",
   "metadata": {},
   "source": [
    "## Shape"
   ]
  },
  {
   "cell_type": "code",
   "execution_count": 77,
   "id": "4decb85c",
   "metadata": {},
   "outputs": [
    {
     "ename": "RuntimeError",
     "evalue": "Exception thrown in SimpleITK ImageFileReader_Execute: D:\\a\\1\\sitk\\Code\\IO\\src\\sitkImageReaderBase.cxx:97:\nsitk::ERROR: The file \"patient0001_2CH_ED.nii\" does not exist.",
     "output_type": "error",
     "traceback": [
      "\u001b[1;31m---------------------------------------------------------------------------\u001b[0m",
      "\u001b[1;31mRuntimeError\u001b[0m                              Traceback (most recent call last)",
      "\u001b[1;32m~\\AppData\\Local\\Temp\\ipykernel_8964\\3805612331.py\u001b[0m in \u001b[0;36m<module>\u001b[1;34m\u001b[0m\n\u001b[0;32m      1\u001b[0m \u001b[0mos\u001b[0m\u001b[1;33m.\u001b[0m\u001b[0mchdir\u001b[0m\u001b[1;33m(\u001b[0m\u001b[1;34m'D:/TFG/nnUnet_raw/Task250_2DLeftVentricle/imagesTr'\u001b[0m\u001b[1;33m)\u001b[0m\u001b[1;33m\u001b[0m\u001b[1;33m\u001b[0m\u001b[0m\n\u001b[1;32m----> 2\u001b[1;33m \u001b[0mprint\u001b[0m\u001b[1;33m(\u001b[0m\u001b[0msitk\u001b[0m\u001b[1;33m.\u001b[0m\u001b[0mGetArrayFromImage\u001b[0m\u001b[1;33m(\u001b[0m\u001b[0msitk\u001b[0m\u001b[1;33m.\u001b[0m\u001b[0mReadImage\u001b[0m\u001b[1;33m(\u001b[0m\u001b[1;34m'patient0001_2CH_ED.nii'\u001b[0m\u001b[1;33m)\u001b[0m\u001b[1;33m)\u001b[0m\u001b[1;33m.\u001b[0m\u001b[0mshape\u001b[0m\u001b[1;33m)\u001b[0m\u001b[1;33m\u001b[0m\u001b[1;33m\u001b[0m\u001b[0m\n\u001b[0m",
      "\u001b[1;32m~\\anaconda3\\lib\\site-packages\\SimpleITK\\extra.py\u001b[0m in \u001b[0;36mReadImage\u001b[1;34m(fileName, outputPixelType, imageIO)\u001b[0m\n\u001b[0;32m    353\u001b[0m     \u001b[0mreader\u001b[0m\u001b[1;33m.\u001b[0m\u001b[0mSetImageIO\u001b[0m\u001b[1;33m(\u001b[0m\u001b[0mimageIO\u001b[0m\u001b[1;33m)\u001b[0m\u001b[1;33m\u001b[0m\u001b[1;33m\u001b[0m\u001b[0m\n\u001b[0;32m    354\u001b[0m     \u001b[0mreader\u001b[0m\u001b[1;33m.\u001b[0m\u001b[0mSetOutputPixelType\u001b[0m\u001b[1;33m(\u001b[0m\u001b[0moutputPixelType\u001b[0m\u001b[1;33m)\u001b[0m\u001b[1;33m\u001b[0m\u001b[1;33m\u001b[0m\u001b[0m\n\u001b[1;32m--> 355\u001b[1;33m     \u001b[1;32mreturn\u001b[0m \u001b[0mreader\u001b[0m\u001b[1;33m.\u001b[0m\u001b[0mExecute\u001b[0m\u001b[1;33m(\u001b[0m\u001b[1;33m)\u001b[0m\u001b[1;33m\u001b[0m\u001b[1;33m\u001b[0m\u001b[0m\n\u001b[0m\u001b[0;32m    356\u001b[0m \u001b[1;33m\u001b[0m\u001b[0m\n\u001b[0;32m    357\u001b[0m \u001b[1;33m\u001b[0m\u001b[0m\n",
      "\u001b[1;32m~\\anaconda3\\lib\\site-packages\\SimpleITK\\SimpleITK.py\u001b[0m in \u001b[0;36mExecute\u001b[1;34m(self)\u001b[0m\n\u001b[0;32m   8436\u001b[0m \u001b[1;33m\u001b[0m\u001b[0m\n\u001b[0;32m   8437\u001b[0m         \"\"\"\n\u001b[1;32m-> 8438\u001b[1;33m         \u001b[1;32mreturn\u001b[0m \u001b[0m_SimpleITK\u001b[0m\u001b[1;33m.\u001b[0m\u001b[0mImageFileReader_Execute\u001b[0m\u001b[1;33m(\u001b[0m\u001b[0mself\u001b[0m\u001b[1;33m)\u001b[0m\u001b[1;33m\u001b[0m\u001b[1;33m\u001b[0m\u001b[0m\n\u001b[0m\u001b[0;32m   8439\u001b[0m \u001b[1;33m\u001b[0m\u001b[0m\n\u001b[0;32m   8440\u001b[0m     \u001b[1;32mdef\u001b[0m \u001b[0mReadImageInformation\u001b[0m\u001b[1;33m(\u001b[0m\u001b[0mself\u001b[0m\u001b[1;33m)\u001b[0m\u001b[1;33m:\u001b[0m\u001b[1;33m\u001b[0m\u001b[1;33m\u001b[0m\u001b[0m\n",
      "\u001b[1;31mRuntimeError\u001b[0m: Exception thrown in SimpleITK ImageFileReader_Execute: D:\\a\\1\\sitk\\Code\\IO\\src\\sitkImageReaderBase.cxx:97:\nsitk::ERROR: The file \"patient0001_2CH_ED.nii\" does not exist."
     ]
    }
   ],
   "source": [
    "os.chdir('D:/TFG/nnUnet_raw/Task250_2DLeftVentricle/imagesTr')\n",
    "print(sitk.GetArrayFromImage(sitk.ReadImage('patient0001_2CH_ED.nii')).shape)"
   ]
  },
  {
   "cell_type": "markdown",
   "id": "ef1039ee",
   "metadata": {},
   "source": [
    "# Zip loop"
   ]
  },
  {
   "cell_type": "code",
   "execution_count": 32,
   "id": "fb8192e0",
   "metadata": {},
   "outputs": [],
   "source": [
    "import zipfile"
   ]
  },
  {
   "cell_type": "code",
   "execution_count": null,
   "id": "9d91d6b8",
   "metadata": {},
   "outputs": [],
   "source": [
    "path = 'D:/TFG/nnUnet_raw/Task250_2DLeftVentricle/labelsTr'\n",
    "names = os.listdir(path)\n",
    "for files in names:\n",
    "    "
   ]
  },
  {
   "cell_type": "code",
   "execution_count": 40,
   "id": "507dd25a",
   "metadata": {},
   "outputs": [
    {
     "data": {
      "text/plain": [
       "'C:\\\\Users\\\\Oriol\\\\Desktop\\\\Universitat\\\\TFG\\\\Code\\\\patient0001_2CH_ED.zip'"
      ]
     },
     "execution_count": 40,
     "metadata": {},
     "output_type": "execute_result"
    }
   ],
   "source": [
    "path = 'D:/TFG/nnUnet_raw/Task250_2DLeftVentricle/labelsTr'\n",
    "\n",
    "shutil.make_archive('patient0001_2CH_ED', 'zip', path) # Path puts in everything"
   ]
  },
  {
   "cell_type": "code",
   "execution_count": null,
   "id": "9726409a",
   "metadata": {},
   "outputs": [],
   "source": []
  }
 ],
 "metadata": {
  "kernelspec": {
   "display_name": "Python 3 (ipykernel)",
   "language": "python",
   "name": "python3"
  },
  "language_info": {
   "codemirror_mode": {
    "name": "ipython",
    "version": 3
   },
   "file_extension": ".py",
   "mimetype": "text/x-python",
   "name": "python",
   "nbconvert_exporter": "python",
   "pygments_lexer": "ipython3",
   "version": "3.9.13"
  }
 },
 "nbformat": 4,
 "nbformat_minor": 5
}
