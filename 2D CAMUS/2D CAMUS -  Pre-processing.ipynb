{
 "cells": [
  {
   "cell_type": "markdown",
   "id": "7806cf62",
   "metadata": {},
   "source": [
    "# Pre-processing"
   ]
  },
  {
   "cell_type": "code",
   "execution_count": 1,
   "id": "1f605f9d",
   "metadata": {},
   "outputs": [],
   "source": [
    "import os\n",
    "import shutil\n",
    "import sys\n",
    "import SimpleITK as sitk\n",
    "import gzip"
   ]
  },
  {
   "cell_type": "markdown",
   "id": "661026da",
   "metadata": {},
   "source": [
    "# LabelsTr"
   ]
  },
  {
   "cell_type": "code",
   "execution_count": 29,
   "id": "679689fc",
   "metadata": {},
   "outputs": [],
   "source": [
    "def conversion_and_sorter(path, os_path):\n",
    "    os.chdir(os_path)\n",
    "    path_to = 'D:/TFG/nnUnet_raw/Task250_2DLeftVentricle/labelsTr'\n",
    "\n",
    "    names = os.listdir(path)\n",
    "    for files in names:\n",
    "        if '_gt.mhd' in files:        \n",
    "            sitk.WriteImage(sitk.ReadImage(files), files + '.nii') # NIfTi conversion\n",
    "            if '_gt.mhd.nii' in files:\n",
    "                shutil.move(path+files, path_to +'/'+files) # Folder sorter"
   ]
  },
  {
   "cell_type": "markdown",
   "id": "d82559d2",
   "metadata": {},
   "source": [
    "## Iteration each patient"
   ]
  },
  {
   "cell_type": "markdown",
   "id": "37428a89",
   "metadata": {},
   "source": [
    "#### Loop (first 10)"
   ]
  },
  {
   "cell_type": "code",
   "execution_count": 34,
   "id": "3619cf9b",
   "metadata": {},
   "outputs": [],
   "source": [
    "for i in range(1, 10):\n",
    "    path = 'D:/TFG/nnUnet_raw/database/training/patient000'\n",
    "    loop_10 = \"{}{}/\".format(path, i)\n",
    "    conversion_and_sorter(loop_10, loop_10)"
   ]
  },
  {
   "cell_type": "markdown",
   "id": "58984285",
   "metadata": {},
   "source": [
    "#### Loop (next 90)"
   ]
  },
  {
   "cell_type": "code",
   "execution_count": 36,
   "id": "f03d272f",
   "metadata": {},
   "outputs": [],
   "source": [
    "for i in range(10, 100):\n",
    "    path = 'D:/TFG/nnUnet_raw/database/training/patient00'\n",
    "    loop_90 = \"{}{}/\".format(path, i)\n",
    "    conversion_and_sorter(loop_90, loop_90)"
   ]
  },
  {
   "cell_type": "markdown",
   "id": "695a29b9",
   "metadata": {},
   "source": [
    "#### Loop (last 400)"
   ]
  },
  {
   "cell_type": "code",
   "execution_count": null,
   "id": "08f5592d",
   "metadata": {},
   "outputs": [],
   "source": [
    "for i in range(100, 501):\n",
    "    path = 'D:/TFG/nnUnet_raw/database/training/patient0'\n",
    "    loop_400 = \"{}{}/\".format(path, i)\n",
    "    conversion_and_sorter(loop_400, loop_400)"
   ]
  },
  {
   "cell_type": "markdown",
   "id": "4e537533",
   "metadata": {},
   "source": [
    "### Check files shape"
   ]
  },
  {
   "cell_type": "code",
   "execution_count": 3,
   "id": "a7c361a4",
   "metadata": {},
   "outputs": [
    {
     "ename": "RuntimeError",
     "evalue": "Exception thrown in SimpleITK ImageFileReader_Execute: D:\\a\\1\\sitk\\Code\\IO\\src\\sitkImageReaderBase.cxx:97:\nsitk::ERROR: The file \"patient0145_2CH_ED_gt.mhd.nii\" does not exist.",
     "output_type": "error",
     "traceback": [
      "\u001b[1;31m---------------------------------------------------------------------------\u001b[0m",
      "\u001b[1;31mRuntimeError\u001b[0m                              Traceback (most recent call last)",
      "\u001b[1;32m~\\AppData\\Local\\Temp\\ipykernel_1576\\2861764365.py\u001b[0m in \u001b[0;36m<module>\u001b[1;34m\u001b[0m\n\u001b[0;32m      1\u001b[0m \u001b[0mos\u001b[0m\u001b[1;33m.\u001b[0m\u001b[0mchdir\u001b[0m\u001b[1;33m(\u001b[0m\u001b[1;34m'D:/TFG/nnUnet_raw/Task250_2DLeftVentricle/labelsTr'\u001b[0m\u001b[1;33m)\u001b[0m\u001b[1;33m\u001b[0m\u001b[1;33m\u001b[0m\u001b[0m\n\u001b[1;32m----> 2\u001b[1;33m \u001b[0mprint\u001b[0m\u001b[1;33m(\u001b[0m\u001b[0msitk\u001b[0m\u001b[1;33m.\u001b[0m\u001b[0mGetArrayFromImage\u001b[0m\u001b[1;33m(\u001b[0m\u001b[0msitk\u001b[0m\u001b[1;33m.\u001b[0m\u001b[0mReadImage\u001b[0m\u001b[1;33m(\u001b[0m\u001b[1;34m'patient0145_2CH_ED_gt.mhd.nii'\u001b[0m\u001b[1;33m)\u001b[0m\u001b[1;33m)\u001b[0m\u001b[1;33m.\u001b[0m\u001b[0mshape\u001b[0m\u001b[1;33m)\u001b[0m\u001b[1;33m\u001b[0m\u001b[1;33m\u001b[0m\u001b[0m\n\u001b[0m",
      "\u001b[1;32m~\\anaconda3\\lib\\site-packages\\SimpleITK\\extra.py\u001b[0m in \u001b[0;36mReadImage\u001b[1;34m(fileName, outputPixelType, imageIO)\u001b[0m\n\u001b[0;32m    353\u001b[0m     \u001b[0mreader\u001b[0m\u001b[1;33m.\u001b[0m\u001b[0mSetImageIO\u001b[0m\u001b[1;33m(\u001b[0m\u001b[0mimageIO\u001b[0m\u001b[1;33m)\u001b[0m\u001b[1;33m\u001b[0m\u001b[1;33m\u001b[0m\u001b[0m\n\u001b[0;32m    354\u001b[0m     \u001b[0mreader\u001b[0m\u001b[1;33m.\u001b[0m\u001b[0mSetOutputPixelType\u001b[0m\u001b[1;33m(\u001b[0m\u001b[0moutputPixelType\u001b[0m\u001b[1;33m)\u001b[0m\u001b[1;33m\u001b[0m\u001b[1;33m\u001b[0m\u001b[0m\n\u001b[1;32m--> 355\u001b[1;33m     \u001b[1;32mreturn\u001b[0m \u001b[0mreader\u001b[0m\u001b[1;33m.\u001b[0m\u001b[0mExecute\u001b[0m\u001b[1;33m(\u001b[0m\u001b[1;33m)\u001b[0m\u001b[1;33m\u001b[0m\u001b[1;33m\u001b[0m\u001b[0m\n\u001b[0m\u001b[0;32m    356\u001b[0m \u001b[1;33m\u001b[0m\u001b[0m\n\u001b[0;32m    357\u001b[0m \u001b[1;33m\u001b[0m\u001b[0m\n",
      "\u001b[1;32m~\\anaconda3\\lib\\site-packages\\SimpleITK\\SimpleITK.py\u001b[0m in \u001b[0;36mExecute\u001b[1;34m(self)\u001b[0m\n\u001b[0;32m   8436\u001b[0m \u001b[1;33m\u001b[0m\u001b[0m\n\u001b[0;32m   8437\u001b[0m         \"\"\"\n\u001b[1;32m-> 8438\u001b[1;33m         \u001b[1;32mreturn\u001b[0m \u001b[0m_SimpleITK\u001b[0m\u001b[1;33m.\u001b[0m\u001b[0mImageFileReader_Execute\u001b[0m\u001b[1;33m(\u001b[0m\u001b[0mself\u001b[0m\u001b[1;33m)\u001b[0m\u001b[1;33m\u001b[0m\u001b[1;33m\u001b[0m\u001b[0m\n\u001b[0m\u001b[0;32m   8439\u001b[0m \u001b[1;33m\u001b[0m\u001b[0m\n\u001b[0;32m   8440\u001b[0m     \u001b[1;32mdef\u001b[0m \u001b[0mReadImageInformation\u001b[0m\u001b[1;33m(\u001b[0m\u001b[0mself\u001b[0m\u001b[1;33m)\u001b[0m\u001b[1;33m:\u001b[0m\u001b[1;33m\u001b[0m\u001b[1;33m\u001b[0m\u001b[0m\n",
      "\u001b[1;31mRuntimeError\u001b[0m: Exception thrown in SimpleITK ImageFileReader_Execute: D:\\a\\1\\sitk\\Code\\IO\\src\\sitkImageReaderBase.cxx:97:\nsitk::ERROR: The file \"patient0145_2CH_ED_gt.mhd.nii\" does not exist."
     ]
    }
   ],
   "source": [
    "os.chdir('D:/TFG/nnUnet_raw/Task250_2DLeftVentricle/labelsTr')\n",
    "print(sitk.GetArrayFromImage(sitk.ReadImage('patient0145_2CH_ED_gt.mhd.nii')).shape)"
   ]
  },
  {
   "cell_type": "markdown",
   "id": "26e86541",
   "metadata": {},
   "source": [
    "### Rename files"
   ]
  },
  {
   "cell_type": "code",
   "execution_count": 2,
   "id": "dce32c13",
   "metadata": {},
   "outputs": [
    {
     "ename": "ValueError",
     "evalue": "not enough values to unpack (expected 4, got 3)",
     "output_type": "error",
     "traceback": [
      "\u001b[1;31m---------------------------------------------------------------------------\u001b[0m",
      "\u001b[1;31mValueError\u001b[0m                                Traceback (most recent call last)",
      "\u001b[1;32m~\\AppData\\Local\\Temp\\ipykernel_1576\\6677380.py\u001b[0m in \u001b[0;36m<module>\u001b[1;34m\u001b[0m\n\u001b[0;32m      3\u001b[0m \u001b[1;32mfor\u001b[0m \u001b[0mf\u001b[0m \u001b[1;32min\u001b[0m \u001b[0mos\u001b[0m\u001b[1;33m.\u001b[0m\u001b[0mlistdir\u001b[0m\u001b[1;33m(\u001b[0m\u001b[1;33m)\u001b[0m\u001b[1;33m:\u001b[0m\u001b[1;33m\u001b[0m\u001b[1;33m\u001b[0m\u001b[0m\n\u001b[0;32m      4\u001b[0m     \u001b[0mf_name\u001b[0m\u001b[1;33m,\u001b[0m \u001b[0mf_ext\u001b[0m \u001b[1;33m=\u001b[0m \u001b[0mos\u001b[0m\u001b[1;33m.\u001b[0m\u001b[0mpath\u001b[0m\u001b[1;33m.\u001b[0m\u001b[0msplitext\u001b[0m\u001b[1;33m(\u001b[0m\u001b[0mf\u001b[0m\u001b[1;33m)\u001b[0m\u001b[1;33m\u001b[0m\u001b[1;33m\u001b[0m\u001b[0m\n\u001b[1;32m----> 5\u001b[1;33m     \u001b[0mf_patient\u001b[0m\u001b[1;33m,\u001b[0m \u001b[0mf_CH\u001b[0m\u001b[1;33m,\u001b[0m \u001b[0mf_E\u001b[0m\u001b[1;33m,\u001b[0m \u001b[0mf_gt\u001b[0m \u001b[1;33m=\u001b[0m \u001b[0mf_name\u001b[0m\u001b[1;33m.\u001b[0m\u001b[0msplit\u001b[0m\u001b[1;33m(\u001b[0m\u001b[1;34m'_'\u001b[0m\u001b[1;33m)\u001b[0m\u001b[1;33m\u001b[0m\u001b[1;33m\u001b[0m\u001b[0m\n\u001b[0m\u001b[0;32m      6\u001b[0m     \u001b[0mnew_name\u001b[0m \u001b[1;33m=\u001b[0m \u001b[1;34m'{}_{}_{}.nii'\u001b[0m\u001b[1;33m.\u001b[0m\u001b[0mformat\u001b[0m\u001b[1;33m(\u001b[0m\u001b[0mf_patient\u001b[0m\u001b[1;33m,\u001b[0m \u001b[0mf_CH\u001b[0m\u001b[1;33m,\u001b[0m \u001b[0mf_E\u001b[0m\u001b[1;33m)\u001b[0m\u001b[1;33m\u001b[0m\u001b[1;33m\u001b[0m\u001b[0m\n\u001b[0;32m      7\u001b[0m \u001b[1;33m\u001b[0m\u001b[0m\n",
      "\u001b[1;31mValueError\u001b[0m: not enough values to unpack (expected 4, got 3)"
     ]
    }
   ],
   "source": [
    "os.chdir('D:/TFG/nnUnet_raw/Task250_2DLeftVentricle/labelsTr')\n",
    "\n",
    "for f in os.listdir():\n",
    "    f_name, f_ext = os.path.splitext(f)\n",
    "    f_patient, f_CH, f_E, f_gt = f_name.split('_')\n",
    "    new_name = '{}_{}_{}.nii'.format(f_patient, f_CH, f_E)\n",
    "    \n",
    "    print(new_name)\n",
    "    \n",
    "    #os.rename(f, new_name)"
   ]
  },
  {
   "cell_type": "markdown",
   "id": "ec7933c9",
   "metadata": {},
   "source": [
    "### Gzip"
   ]
  },
  {
   "cell_type": "code",
   "execution_count": null,
   "id": "577b0f5d",
   "metadata": {},
   "outputs": [],
   "source": [
    "#list1 = gzip('D:/TFG/nnUnet_raw/Task250_2DLeftVentricle/labelsTr/patient0001_2CH_ES.nii')\n",
    "#list2 = gzip('D:/TFG/nnUnet_raw/Task250_2DLeftVentricle/labelsTr/patient0001_2CH_ED.nii')\n",
    "#list3 = gzip('D:/TFG/nnUnet_raw/Task250_2DLeftVentricle/labelsTr/patient0001_4CH_ED.nii')\n",
    "#list4 = gzip('D:/TFG/nnUnet_raw/Task250_2DLeftVentricle/labelsTr/patient0001_4CH_ES.nii')\n",
    "\n",
    "path = 'D:/TFG/nnUnet_raw/Task250_2DLeftVentricle/labelsTr/patient0'\n",
    "\n",
    "list1 = '_2CH_ES.nii'\n",
    "list2 = '_2CH_ED.nii'\n",
    "list3 = '_4CH_ED.nii'\n",
    "list4 = '_4CH_ES.nii'\n",
    "\n",
    "for i in range(100, 451):\n",
    "    loop_10 = \"{}{}{}\".format(path, i, list1)\n",
    "    \n",
    "    gzipp = 'gzip('\n",
    "    loop_101 = \"{}'{}')\".format(gzipp, loop_10)\n",
    "    print(loop_101)"
   ]
  },
  {
   "cell_type": "markdown",
   "id": "6b0c46a4",
   "metadata": {},
   "source": [
    "# imagesTr"
   ]
  },
  {
   "cell_type": "code",
   "execution_count": 46,
   "id": "15007d02",
   "metadata": {},
   "outputs": [],
   "source": [
    "def conversion_and_sorter2(path, os_path):\n",
    "    os.chdir(os_path)\n",
    "    path_to = 'D:/TFG/nnUnet_raw/Task250_2DLeftVentricle/imagesTr'\n",
    "\n",
    "    names = os.listdir(path)\n",
    "    for files in names:\n",
    "        if 'ED.mhd' in files:        \n",
    "            sitk.WriteImage(sitk.ReadImage(files), files + '.nii') # NIfTi conversion\n",
    "            if 'ED.mhd.nii' in files:\n",
    "                shutil.move(path+files, path_to +'/'+files) # Folder sorter\n",
    "        if 'ES.mhd'in files:        \n",
    "            sitk.WriteImage(sitk.ReadImage(files), files + '.nii') # NIfTi conversion\n",
    "            if 'ES.mhd.nii' in files:\n",
    "                shutil.move(path+files, path_to +'/'+files) # Folder sorter"
   ]
  },
  {
   "cell_type": "markdown",
   "id": "e47076e0",
   "metadata": {},
   "source": [
    "### Iteration each patient"
   ]
  },
  {
   "cell_type": "markdown",
   "id": "15ddbe32",
   "metadata": {},
   "source": [
    "#### Loop (first 10)"
   ]
  },
  {
   "cell_type": "code",
   "execution_count": 48,
   "id": "caabdf4d",
   "metadata": {},
   "outputs": [],
   "source": [
    "for i in range(1, 10):\n",
    "    path = 'D:/TFG/nnUnet_raw/database/training/patient000'\n",
    "    loop_10 = \"{}{}/\".format(path, i)\n",
    "    conversion_and_sorter2(loop_10, loop_10)"
   ]
  },
  {
   "cell_type": "markdown",
   "id": "29502ce4",
   "metadata": {},
   "source": [
    "#### Loop (next 90)"
   ]
  },
  {
   "cell_type": "code",
   "execution_count": 50,
   "id": "28806e19",
   "metadata": {},
   "outputs": [],
   "source": [
    "for i in range(10, 100):\n",
    "    path = 'D:/TFG/nnUnet_raw/database/training/patient00'\n",
    "    loop_90 = \"{}{}/\".format(path, i)\n",
    "    conversion_and_sorter2(loop_90, loop_90)"
   ]
  },
  {
   "cell_type": "markdown",
   "id": "2233b3b7",
   "metadata": {},
   "source": [
    "#### Loop (last 350)"
   ]
  },
  {
   "cell_type": "code",
   "execution_count": 52,
   "id": "c6b56e64",
   "metadata": {},
   "outputs": [],
   "source": [
    "for i in range(100, 451):\n",
    "    path = 'D:/TFG/nnUnet_raw/database/training/patient0'\n",
    "    loop_400 = \"{}{}/\".format(path, i)\n",
    "    conversion_and_sorter2(loop_400, loop_400)"
   ]
  },
  {
   "cell_type": "markdown",
   "id": "0be003fc",
   "metadata": {},
   "source": [
    "### Check files shape"
   ]
  },
  {
   "cell_type": "code",
   "execution_count": 57,
   "id": "4decb85c",
   "metadata": {},
   "outputs": [
    {
     "name": "stdout",
     "output_type": "stream",
     "text": [
      "(1, 973, 591)\n"
     ]
    }
   ],
   "source": [
    "os.chdir('D:/TFG/nnUnet_raw/Task250_2DLeftVentricle/imagesTr')\n",
    "print(sitk.GetArrayFromImage(sitk.ReadImage('patient0145_2CH_ED.mhd.nii')).shape)"
   ]
  },
  {
   "cell_type": "markdown",
   "id": "b77532f6",
   "metadata": {},
   "source": [
    "### Rename files"
   ]
  },
  {
   "cell_type": "code",
   "execution_count": 5,
   "id": "298eadf8",
   "metadata": {},
   "outputs": [],
   "source": [
    "os.chdir('D:/TFG/nnUnet_raw/Task250_2DLeftVentricle/imagesTr')\n",
    "\n",
    "for f in os.listdir():\n",
    "    f_name, f_ext = os.path.splitext(f)\n",
    "    f_patient, f_CH = f_name.split('.')\n",
    "    new_name = '{}_0000.nii'.format(f_patient)\n",
    "    \n",
    "    print(new_name)\n",
    "    \n",
    "    #os.rename(f, new_name)"
   ]
  },
  {
   "cell_type": "markdown",
   "id": "1d9108fe",
   "metadata": {},
   "source": [
    "### Gzip"
   ]
  },
  {
   "cell_type": "code",
   "execution_count": null,
   "id": "e867c8aa",
   "metadata": {},
   "outputs": [],
   "source": [
    "#list1 = gzip('D:/TFG/nnUnet_raw/Task250_2DLeftVentricle/imagesTr/patient0001_2CH_ES_0000.nii')\n",
    "#list2 = gzip('D:/TFG/nnUnet_raw/Task250_2DLeftVentricle/imagesTr/patient0001_2CH_ED_0000.nii')\n",
    "#list3 = gzip('D:/TFG/nnUnet_raw/Task250_2DLeftVentricle/imagesTr/patient0001_4CH_ED_0000.nii')\n",
    "#list4 = gzip('D:/TFG/nnUnet_raw/Task250_2DLeftVentricle/imagesTr/patient0001_4CH_ES_0000.nii')\n",
    "\n",
    "path = 'D:/TFG/nnUnet_raw/Task250_2DLeftVentricle/imagesTr/patient0'\n",
    "\n",
    "list1 = '_2CH_ES_0000.nii'\n",
    "list2 = '_2CH_ED_0000.nii'\n",
    "list3 = '_4CH_ED_0000.nii'\n",
    "list4 = '_4CH_ES_0000.nii'\n",
    "\n",
    "for i in range(100, 451):\n",
    "    loop_10 = \"{}{}{}\".format(path, i, list4)\n",
    "    \n",
    "    gzipp = 'gzip('\n",
    "    loop_101 = \"{}'{}')\".format(gzipp, loop_10)\n",
    "    print(loop_101)"
   ]
  },
  {
   "cell_type": "code",
   "execution_count": null,
   "id": "268b1f6a",
   "metadata": {},
   "outputs": [],
   "source": []
  }
 ],
 "metadata": {
  "kernelspec": {
   "display_name": "Python 3 (ipykernel)",
   "language": "python",
   "name": "python3"
  },
  "language_info": {
   "codemirror_mode": {
    "name": "ipython",
    "version": 3
   },
   "file_extension": ".py",
   "mimetype": "text/x-python",
   "name": "python",
   "nbconvert_exporter": "python",
   "pygments_lexer": "ipython3",
   "version": "3.9.13"
  }
 },
 "nbformat": 4,
 "nbformat_minor": 5
}
